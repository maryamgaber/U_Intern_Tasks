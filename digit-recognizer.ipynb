{
 "cells": [
  {
   "cell_type": "code",
   "execution_count": 5,
   "metadata": {
    "_cell_guid": "b1076dfc-b9ad-4769-8c92-a6c4dae69d19",
    "_uuid": "8f2839f25d086af736a60e9eeb907d3b93b6e0e5"
   },
   "outputs": [],
   "source": [
    "import pandas as pd\n",
    "import numpy as np\n",
    "\n",
    "import matplotlib.pyplot as plt\n",
    "import seaborn as sns"
   ]
  },
  {
   "cell_type": "code",
   "execution_count": 14,
   "metadata": {},
   "outputs": [],
   "source": [
    "train = pd.read_csv('../input/digit-recognizer/train.csv')\n",
    "test = pd.read_csv('../input/digit-recognizer/test.csv')\n",
    "sub= pd.read_csv('../input/digit-recognizer/sample_submission.csv')\n"
   ]
  },
  {
   "cell_type": "code",
   "execution_count": 18,
   "metadata": {},
   "outputs": [
    {
     "name": "stdout",
     "output_type": "stream",
     "text": [
      "(42000, 785)\n",
      "(28000, 784)\n"
     ]
    }
   ],
   "source": [
    "print(train.shape)\n",
    "print(test.shape)"
   ]
  },
  {
   "cell_type": "markdown",
   "metadata": {},
   "source": [
    "**Set data features and labels**\n"
   ]
  },
  {
   "cell_type": "code",
   "execution_count": 24,
   "metadata": {},
   "outputs": [],
   "source": [
    "from sklearn.model_selection import train_test_split\n",
    "from sklearn.metrics import confusion_matrix\n",
    "from keras.models import Sequential\n",
    "from keras.layers import Conv2D, Lambda, MaxPooling2D # convolution layers\n",
    "from keras.layers import Dense, Dropout, Flatten # core layers\n",
    "from keras.layers.normalization import BatchNormalization\n",
    "from keras.preprocessing.image import ImageDataGenerator\n",
    "from keras.utils.np_utils import to_categorical"
   ]
  },
  {
   "cell_type": "code",
   "execution_count": 19,
   "metadata": {},
   "outputs": [],
   "source": [
    "X = train.drop(['label'], 1).values\n",
    "y = train['label'].values\n",
    "\n",
    "test_x = test.values"
   ]
  },
  {
   "cell_type": "markdown",
   "metadata": {},
   "source": [
    "**grayscale normalization:**"
   ]
  },
  {
   "cell_type": "code",
   "execution_count": 20,
   "metadata": {},
   "outputs": [],
   "source": [
    "X = X / 255.0\n",
    "test_x = test_x / 255.0"
   ]
  },
  {
   "cell_type": "markdown",
   "metadata": {},
   "source": [
    "**Reshape image in 3 dimensions:**"
   ]
  },
  {
   "cell_type": "code",
   "execution_count": 21,
   "metadata": {},
   "outputs": [],
   "source": [
    "X = X.reshape(-1,28,28,1)\n",
    "test_x = test_x.reshape(-1,28,28,1)"
   ]
  },
  {
   "cell_type": "markdown",
   "metadata": {},
   "source": [
    "**Label encoding by using One-Hot Encoding:**"
   ]
  },
  {
   "cell_type": "code",
   "execution_count": 25,
   "metadata": {},
   "outputs": [],
   "source": [
    "y = to_categorical(y)\n"
   ]
  },
  {
   "cell_type": "markdown",
   "metadata": {},
   "source": [
    "**Split the train and the validation set for the fitting:**"
   ]
  },
  {
   "cell_type": "code",
   "execution_count": 26,
   "metadata": {},
   "outputs": [],
   "source": [
    "X_train, X_test, y_train, y_test = train_test_split(X, y, test_size=0.1, random_state=0)"
   ]
  },
  {
   "cell_type": "code",
   "execution_count": 27,
   "metadata": {},
   "outputs": [
    {
     "data": {
      "text/plain": [
       "((37800, 28, 28, 1), (4200, 28, 28, 1), (37800, 10), (4200, 10))"
      ]
     },
     "execution_count": 27,
     "metadata": {},
     "output_type": "execute_result"
    }
   ],
   "source": [
    "X_train.shape, X_test.shape, y_train.shape, y_test.shape\n"
   ]
  },
  {
   "cell_type": "markdown",
   "metadata": {},
   "source": [
    "> **Data Visualization:**"
   ]
  },
  {
   "cell_type": "code",
   "execution_count": 28,
   "metadata": {},
   "outputs": [
    {
     "data": {
      "image/png": "[encoded data removed]",
      "text/plain": [
       "<Figure size 1440x720 with 4 Axes>"
      ]
     },
     "metadata": {
      "needs_background": "light"
     },
     "output_type": "display_data"
    }
   ],
   "source": [
    "X_train__ = X_train.reshape(X_train.shape[0], 28, 28)\n",
    "\n",
    "fig, axis = plt.subplots(1, 4, figsize=(20, 10))\n",
    "for i, ax in enumerate(axis.flat):\n",
    "    ax.imshow(X_train__[i], cmap='binary')\n",
    "    digit = y_train[i].argmax()\n",
    "    ax.set(title = f\"Real Number is {digit}\");"
   ]
  },
  {
   "cell_type": "markdown",
   "metadata": {},
   "source": [
    "**Normalization function:**\n"
   ]
  },
  {
   "cell_type": "code",
   "execution_count": 29,
   "metadata": {},
   "outputs": [],
   "source": [
    "mean = np.mean(X_train)\n",
    "std = np.std(X_train)\n",
    "\n",
    "def standardize(x):\n",
    "    return (x-mean)/std"
   ]
  },
  {
   "cell_type": "code",
   "execution_count": 30,
   "metadata": {},
   "outputs": [],
   "source": [
    "epochs = 50\n",
    "batch_size = 64"
   ]
  },
  {
   "cell_type": "markdown",
   "metadata": {},
   "source": [
    "**CNN Model:**"
   ]
  },
  {
   "cell_type": "code",
   "execution_count": 31,
   "metadata": {},
   "outputs": [],
   "source": [
    "model=Sequential()\n",
    "\n",
    "model.add(Lambda(standardize,input_shape=(28,28,1)))    \n",
    "model.add(Conv2D(filters=64, kernel_size = (3,3), activation=\"relu\", input_shape=(28,28,1)))\n",
    "model.add(Conv2D(filters=64, kernel_size = (3,3), activation=\"relu\"))\n",
    "model.add(MaxPooling2D(pool_size=(2,2)))\n",
    "model.add(BatchNormalization())\n",
    "model.add(Conv2D(filters=128, kernel_size = (3,3), activation=\"relu\"))\n",
    "model.add(Conv2D(filters=128, kernel_size = (3,3), activation=\"relu\"))\n",
    "\n",
    "model.add(MaxPooling2D(pool_size=(2,2)))\n",
    "model.add(BatchNormalization())    \n",
    "model.add(Conv2D(filters=256, kernel_size = (3,3), activation=\"relu\"))\n",
    "    \n",
    "model.add(MaxPooling2D(pool_size=(2,2)))\n",
    "    \n",
    "model.add(Flatten())\n",
    "model.add(BatchNormalization())\n",
    "model.add(Dense(512,activation=\"relu\"))\n",
    "    \n",
    "model.add(Dense(10,activation=\"softmax\"))\n",
    "    \n",
    "model.compile(loss=\"categorical_crossentropy\", optimizer=\"adam\", metrics=[\"accuracy\"])"
   ]
  },
  {
   "cell_type": "markdown",
   "metadata": {},
   "source": [
    "**Data augmentation:**"
   ]
  },
  {
   "cell_type": "code",
   "execution_count": 32,
   "metadata": {},
   "outputs": [],
   "source": [
    "datagen = ImageDataGenerator(\n",
    "        featurewise_center=False,  # set input mean to 0 over the dataset\n",
    "        samplewise_center=False,  # set each sample mean to 0\n",
    "        featurewise_std_normalization=False,  # divide inputs by std of the dataset\n",
    "        samplewise_std_normalization=False,  # divide each input by its std\n",
    "        zca_whitening=False,  # apply ZCA whitening\n",
    "        rotation_range=10,  # randomly rotate images in the range (degrees, 0 to 180)\n",
    "        zoom_range = 0.1, # Randomly zoom image \n",
    "        width_shift_range=0.1,  # randomly shift images horizontally (fraction of total width)\n",
    "        height_shift_range=0.1,  # randomly shift images vertically (fraction of total height)\n",
    "        horizontal_flip=False,  # randomly flip images\n",
    "        vertical_flip=False)  # randomly flip images\n",
    "\n",
    "\n",
    "datagen.fit(X_train)\n"
   ]
  },
  {
   "cell_type": "code",
   "execution_count": 33,
   "metadata": {},
   "outputs": [],
   "source": [
    "train_gen = datagen.flow(X_train, y_train, batch_size=batch_size)\n",
    "test_gen = datagen.flow(X_test, y_test, batch_size=batch_size)"
   ]
  },
  {
   "cell_type": "markdown",
   "metadata": {},
   "source": [
    "**Model training:**"
   ]
  },
  {
   "cell_type": "code",
   "execution_count": 34,
   "metadata": {},
   "outputs": [
    {
     "name": "stdout",
     "output_type": "stream",
     "text": [
      "Epoch 1/50\n",
      "590/590 [==============================] - 15s 25ms/step - loss: 0.1528 - accuracy: 0.9524 - val_loss: 0.1089 - val_accuracy: 0.9707\n",
      "Epoch 2/50\n",
      "590/590 [==============================] - 14s 25ms/step - loss: 0.0683 - accuracy: 0.9787 - val_loss: 0.0777 - val_accuracy: 0.9784\n",
      "Epoch 3/50\n",
      "590/590 [==============================] - 14s 24ms/step - loss: 0.0577 - accuracy: 0.9828 - val_loss: 0.0488 - val_accuracy: 0.9846\n",
      "Epoch 4/50\n",
      "590/590 [==============================] - 15s 25ms/step - loss: 0.0465 - accuracy: 0.9859 - val_loss: 0.0589 - val_accuracy: 0.9827\n",
      "Epoch 5/50\n",
      "590/590 [==============================] - 15s 25ms/step - loss: 0.0441 - accuracy: 0.9873 - val_loss: 0.0545 - val_accuracy: 0.9849\n",
      "Epoch 6/50\n",
      "590/590 [==============================] - 14s 24ms/step - loss: 0.0389 - accuracy: 0.9884 - val_loss: 0.0419 - val_accuracy: 0.9875\n",
      "Epoch 7/50\n",
      "590/590 [==============================] - 14s 24ms/step - loss: 0.0385 - accuracy: 0.9884 - val_loss: 0.0566 - val_accuracy: 0.9846\n",
      "Epoch 8/50\n",
      "590/590 [==============================] - 15s 25ms/step - loss: 0.0376 - accuracy: 0.9884 - val_loss: 0.0587 - val_accuracy: 0.9851\n",
      "Epoch 9/50\n",
      "590/590 [==============================] - 14s 25ms/step - loss: 0.0333 - accuracy: 0.9898 - val_loss: 0.0347 - val_accuracy: 0.9901\n",
      "Epoch 10/50\n",
      "590/590 [==============================] - 14s 24ms/step - loss: 0.0324 - accuracy: 0.9902 - val_loss: 0.0469 - val_accuracy: 0.9851\n",
      "Epoch 11/50\n",
      "590/590 [==============================] - 14s 24ms/step - loss: 0.0268 - accuracy: 0.9921 - val_loss: 0.0445 - val_accuracy: 0.9865\n",
      "Epoch 12/50\n",
      "590/590 [==============================] - 14s 24ms/step - loss: 0.0275 - accuracy: 0.9918 - val_loss: 0.0272 - val_accuracy: 0.9923\n",
      "Epoch 13/50\n",
      "590/590 [==============================] - 15s 26ms/step - loss: 0.0264 - accuracy: 0.9924 - val_loss: 0.0447 - val_accuracy: 0.9875\n",
      "Epoch 14/50\n",
      "590/590 [==============================] - 14s 24ms/step - loss: 0.0261 - accuracy: 0.9925 - val_loss: 0.0296 - val_accuracy: 0.9913\n",
      "Epoch 15/50\n",
      "590/590 [==============================] - 14s 24ms/step - loss: 0.0227 - accuracy: 0.9931 - val_loss: 0.0456 - val_accuracy: 0.9882\n",
      "Epoch 16/50\n",
      "590/590 [==============================] - 14s 24ms/step - loss: 0.0230 - accuracy: 0.9935 - val_loss: 0.0329 - val_accuracy: 0.9892\n",
      "Epoch 17/50\n",
      "590/590 [==============================] - 15s 26ms/step - loss: 0.0184 - accuracy: 0.9945 - val_loss: 0.0324 - val_accuracy: 0.9913\n",
      "Epoch 18/50\n",
      "590/590 [==============================] - 14s 24ms/step - loss: 0.0232 - accuracy: 0.9928 - val_loss: 0.0267 - val_accuracy: 0.9921\n",
      "Epoch 19/50\n",
      "590/590 [==============================] - 14s 24ms/step - loss: 0.0190 - accuracy: 0.9942 - val_loss: 0.0204 - val_accuracy: 0.9928\n",
      "Epoch 20/50\n",
      "590/590 [==============================] - 14s 24ms/step - loss: 0.0208 - accuracy: 0.9936 - val_loss: 0.0314 - val_accuracy: 0.9913\n",
      "Epoch 21/50\n",
      "590/590 [==============================] - 15s 25ms/step - loss: 0.0171 - accuracy: 0.9952 - val_loss: 0.0222 - val_accuracy: 0.9921\n",
      "Epoch 22/50\n",
      "590/590 [==============================] - 14s 24ms/step - loss: 0.0160 - accuracy: 0.9953 - val_loss: 0.0306 - val_accuracy: 0.9913\n",
      "Epoch 23/50\n",
      "590/590 [==============================] - 14s 23ms/step - loss: 0.0164 - accuracy: 0.9948 - val_loss: 0.0387 - val_accuracy: 0.9889\n",
      "Epoch 24/50\n",
      "590/590 [==============================] - 14s 24ms/step - loss: 0.0156 - accuracy: 0.9955 - val_loss: 0.0287 - val_accuracy: 0.9925\n",
      "Epoch 25/50\n",
      "590/590 [==============================] - 15s 25ms/step - loss: 0.0192 - accuracy: 0.9945 - val_loss: 0.0244 - val_accuracy: 0.9923\n",
      "Epoch 26/50\n",
      "590/590 [==============================] - 14s 23ms/step - loss: 0.0129 - accuracy: 0.9962 - val_loss: 0.0312 - val_accuracy: 0.9911\n",
      "Epoch 27/50\n",
      "590/590 [==============================] - 14s 24ms/step - loss: 0.0158 - accuracy: 0.9950 - val_loss: 0.0454 - val_accuracy: 0.9870\n",
      "Epoch 28/50\n",
      "590/590 [==============================] - 14s 24ms/step - loss: 0.0150 - accuracy: 0.9956 - val_loss: 0.0323 - val_accuracy: 0.9901\n",
      "Epoch 29/50\n",
      "590/590 [==============================] - 15s 25ms/step - loss: 0.0143 - accuracy: 0.9956 - val_loss: 0.0211 - val_accuracy: 0.9933\n",
      "Epoch 30/50\n",
      "590/590 [==============================] - 14s 24ms/step - loss: 0.0136 - accuracy: 0.9958 - val_loss: 0.0297 - val_accuracy: 0.9933\n",
      "Epoch 31/50\n",
      "590/590 [==============================] - 14s 25ms/step - loss: 0.0129 - accuracy: 0.9960 - val_loss: 0.0280 - val_accuracy: 0.9937\n",
      "Epoch 32/50\n",
      "590/590 [==============================] - 14s 23ms/step - loss: 0.0127 - accuracy: 0.9959 - val_loss: 0.0278 - val_accuracy: 0.9909\n",
      "Epoch 33/50\n",
      "590/590 [==============================] - 14s 23ms/step - loss: 0.0128 - accuracy: 0.9960 - val_loss: 0.0267 - val_accuracy: 0.9928\n",
      "Epoch 34/50\n",
      "590/590 [==============================] - 15s 26ms/step - loss: 0.0133 - accuracy: 0.9962 - val_loss: 0.0193 - val_accuracy: 0.9945\n",
      "Epoch 35/50\n",
      "590/590 [==============================] - 14s 24ms/step - loss: 0.0129 - accuracy: 0.9958 - val_loss: 0.0240 - val_accuracy: 0.9937\n",
      "Epoch 36/50\n",
      "590/590 [==============================] - 14s 24ms/step - loss: 0.0132 - accuracy: 0.9962 - val_loss: 0.0268 - val_accuracy: 0.9937\n",
      "Epoch 37/50\n",
      "590/590 [==============================] - 14s 23ms/step - loss: 0.0100 - accuracy: 0.9970 - val_loss: 0.0295 - val_accuracy: 0.9916\n",
      "Epoch 38/50\n",
      "590/590 [==============================] - 15s 25ms/step - loss: 0.0116 - accuracy: 0.9966 - val_loss: 0.0249 - val_accuracy: 0.9942\n",
      "Epoch 39/50\n",
      "590/590 [==============================] - 14s 23ms/step - loss: 0.0104 - accuracy: 0.9968 - val_loss: 0.0407 - val_accuracy: 0.9897\n",
      "Epoch 40/50\n",
      "590/590 [==============================] - 14s 23ms/step - loss: 0.0122 - accuracy: 0.9962 - val_loss: 0.0297 - val_accuracy: 0.9913\n",
      "Epoch 41/50\n",
      "590/590 [==============================] - 14s 24ms/step - loss: 0.0109 - accuracy: 0.9962 - val_loss: 0.0278 - val_accuracy: 0.9933\n",
      "Epoch 42/50\n",
      "590/590 [==============================] - 15s 25ms/step - loss: 0.0113 - accuracy: 0.9963 - val_loss: 0.0277 - val_accuracy: 0.9925\n",
      "Epoch 43/50\n",
      "590/590 [==============================] - 14s 24ms/step - loss: 0.0095 - accuracy: 0.9971 - val_loss: 0.0175 - val_accuracy: 0.9952\n",
      "Epoch 44/50\n",
      "590/590 [==============================] - 14s 24ms/step - loss: 0.0091 - accuracy: 0.9973 - val_loss: 0.0236 - val_accuracy: 0.9947\n",
      "Epoch 45/50\n",
      "590/590 [==============================] - 14s 24ms/step - loss: 0.0114 - accuracy: 0.9967 - val_loss: 0.0348 - val_accuracy: 0.9928\n",
      "Epoch 46/50\n",
      "590/590 [==============================] - 15s 25ms/step - loss: 0.0085 - accuracy: 0.9976 - val_loss: 0.0201 - val_accuracy: 0.9945\n",
      "Epoch 47/50\n",
      "590/590 [==============================] - 14s 24ms/step - loss: 0.0111 - accuracy: 0.9966 - val_loss: 0.0213 - val_accuracy: 0.9937\n",
      "Epoch 48/50\n",
      "590/590 [==============================] - 15s 25ms/step - loss: 0.0078 - accuracy: 0.9976 - val_loss: 0.0219 - val_accuracy: 0.9925\n",
      "Epoch 49/50\n",
      "590/590 [==============================] - 14s 24ms/step - loss: 0.0100 - accuracy: 0.9968 - val_loss: 0.0211 - val_accuracy: 0.9942\n",
      "Epoch 50/50\n",
      "590/590 [==============================] - 15s 25ms/step - loss: 0.0100 - accuracy: 0.9970 - val_loss: 0.0310 - val_accuracy: 0.9911\n"
     ]
    },
    {
     "data": {
      "text/plain": [
       "<tensorflow.python.keras.callbacks.History at 0x7fe56a3f3610>"
      ]
     },
     "execution_count": 34,
     "metadata": {},
     "output_type": "execute_result"
    }
   ],
   "source": [
    "#fit the model\n",
    "model.fit_generator(train_gen, \n",
    "                              epochs = epochs, \n",
    "                              steps_per_epoch = X_train.shape[0] // batch_size,\n",
    "                              validation_data = test_gen,\n",
    "                              validation_steps = X_test.shape[0] // batch_size)\n"
   ]
  },
  {
   "cell_type": "markdown",
   "metadata": {},
   "source": [
    "**Confusion matrix:**"
   ]
  },
  {
   "cell_type": "code",
   "execution_count": 35,
   "metadata": {},
   "outputs": [],
   "source": [
    "\n",
    "y_pred = model.predict(X_test) # Predict encoded label as 2 => [0, 0, 1, 0, 0, 0, 0, 0, 0, 0]\n",
    "\n",
    "Y_pred = np.argmax(y_pred, 1) # Decode Predicted labels\n",
    "Y_test = np.argmax(y_test, 1) # Decode labels\n",
    "\n",
    "mat = confusion_matrix(Y_test, Y_pred) # Confusion matrix"
   ]
  },
  {
   "cell_type": "code",
   "execution_count": 36,
   "metadata": {},
   "outputs": [
    {
     "data": {
      "text/plain": [
       "array([[421,   0,   0,   0,   0,   0,   0,   0,   1,   0],\n",
       "       [  0, 468,   0,   0,   1,   0,   0,   4,   0,   0],\n",
       "       [  1,   0, 407,   0,   0,   0,   0,   1,   0,   0],\n",
       "       [  0,   0,   0, 423,   0,   1,   0,   2,   0,   0],\n",
       "       [  0,   0,   0,   0, 426,   0,   0,   2,   0,   1],\n",
       "       [  0,   0,   0,   0,   0, 381,   1,   0,   0,   0],\n",
       "       [  0,   0,   0,   0,   1,   0, 411,   0,   0,   0],\n",
       "       [  0,   0,   2,   0,   0,   0,   0, 467,   0,   0],\n",
       "       [  0,   0,   1,   0,   0,   0,   1,   0, 382,   0],\n",
       "       [  0,   0,   0,   0,   2,   0,   0,   1,   2, 389]])"
      ]
     },
     "execution_count": 36,
     "metadata": {},
     "output_type": "execute_result"
    }
   ],
   "source": [
    "mat"
   ]
  },
  {
   "cell_type": "markdown",
   "metadata": {},
   "source": [
    "**Prediction validation results:**"
   ]
  },
  {
   "cell_type": "code",
   "execution_count": 37,
   "metadata": {},
   "outputs": [
    {
     "data": {
      "image/png": "[encoded data removed]",
      "text/plain": [
       "<Figure size 864x1008 with 16 Axes>"
      ]
     },
     "metadata": {
      "needs_background": "light"
     },
     "output_type": "display_data"
    }
   ],
   "source": [
    "y_pred = model.predict(X_test)\n",
    "X_test__ = X_test.reshape(X_test.shape[0], 28, 28)\n",
    "\n",
    "fig, axis = plt.subplots(4, 4, figsize=(12, 14))\n",
    "for i, ax in enumerate(axis.flat):\n",
    "    ax.imshow(X_test__[i], cmap='binary')\n",
    "    ax.set(title = f\"Real Number is {y_test[i].argmax()}\\nPredict Number is {y_pred[i].argmax()}\");"
   ]
  },
  {
   "cell_type": "code",
   "execution_count": null,
   "metadata": {},
   "outputs": [],
   "source": []
  }
 ],
 "metadata": {
  "kernelspec": {
   "display_name": "Python 3",
   "language": "python",
   "name": "python3"
  },
  "language_info": {
   "codemirror_mode": {
    "name": "ipython",
    "version": 3
   },
   "file_extension": ".py",
   "mimetype": "text/x-python",
   "name": "python",
   "nbconvert_exporter": "python",
   "pygments_lexer": "ipython3",
   "version": "3.7.1"
  }
 },
 "nbformat": 4,
 "nbformat_minor": 4
}
